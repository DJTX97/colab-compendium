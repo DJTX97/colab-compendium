{
  "cells": [
    {
      "cell_type": "code",
      "execution_count": null,
      "metadata": {
        "id": "xwUaatkGgzt2"
      },
      "outputs": [],
      "source": [
        "#@title Prevent disconnections\n",
        "%%html\n",
        "<audio src=\"https://oobabooga.github.io/silence.m4a\" controls>"
      ]
    },
    {
      "cell_type": "code",
      "execution_count": null,
      "metadata": {
        "id": "VCFOzsQSHbjM"
      },
      "outputs": [],
      "source": [
        "#@title Download & install backend\n",
        "!apt-get -y install -qq aria2\n",
        "#!pip install flask-cloudflared\n",
        "!pip install requests-html\n",
        "\n",
        "!git clone https://github.com/oobabooga/text-generation-webui\n",
        "%cd /content/text-generation-webui\n",
        "!pip install -r requirements.txt\n",
        "!pip install -r /content/text-generation-webui/extensions/openai/requirements.txt\n",
        "# !mkdir repositories\n",
        "# %cd /content/text-generation-webui/repositories\n",
        "# !git clone https://github.com/turboderp/exllama"
      ]
    },
    {
      "cell_type": "code",
      "execution_count": null,
      "metadata": {
        "id": "_p7V3zf_gzt3"
      },
      "outputs": [],
      "source": [
        "#@title Add model\n",
        "\n",
        "%cd /content/\n",
        "\n",
        "from requests_html import HTMLSession\n",
        "\n",
        "OPTIONS = {\n",
        "    1: {\n",
        "        \"id\": \"TheBloke/Echidna-13B-v0.3-GPTQ\", \n",
        "        \"file_list\": []\n",
        "    },\n",
        "    2: {\n",
        "        \"id\": \"Sao10K/Fimbulvetr-11B-v2-GGUF\", \n",
        "        \"file_list\": [\n",
        "            \"https://huggingface.co/Sao10K/Fimbulvetr-11B-v2-GGUF/blob/main/Fimbulvetr-11B-v2.q4_K_S.gguf\"\n",
        "        ]\n",
        "    }\n",
        "}\n",
        "\n",
        "#@markdown ### Model presets (You can add more if you want)\n",
        "Preset = \"1\" #@param [1,2]\n",
        "\n",
        "OPTION = OPTIONS[int(Preset)]\n",
        "MODEL_ID = OPTION[\"id\"]\n",
        "MODEL_FILES = OPTION[\"file_list\"]\n",
        "\n",
        "#Get model name\n",
        "MODEL_NAME = MODEL_ID.split(MODEL_ID[MODEL_ID.rfind(\"/\")])[-1]\n",
        "\n",
        "#@markdown ### !IMPORTANT: Select Model type\n",
        "MODEL_TYPE = \"gptq\" #@param [\"gptq\", \"gguf\"]\n",
        "\n",
        "#@markdown ### Renamed model file name (based on backend and model type)\n",
        "renamed_file = \"\" #@param {type:\"string\"}\n",
        "\n",
        "if MODEL_TYPE == \"gptq\":\n",
        "    renamed_file = \"gptq_model-4bit-128g.safetensors\" \n",
        "\n",
        "if MODEL_TYPE == \"gguf\":\n",
        "    file = list(filter(lambda filename: filename.endswith(\".gguf\"), MODEL_FILES))[0]\n",
        "    renamed_file = file.split(file[file.rfind(\"/\")])[-1]\n",
        "\n",
        "#Get LINKS for GPTQ model\n",
        "if MODEL_TYPE == \"gptq\":\n",
        "    #Target repo\n",
        "    REPO = f\"https://huggingface.co/{MODEL_ID}/tree/main?not-for-all-audiences=true\"\n",
        "\n",
        "    #Get file urls\n",
        "    session = HTMLSession()\n",
        "    result = session.get(REPO)\n",
        "    links = result.html.absolute_links\n",
        "\n",
        "    #Create LINKS list\n",
        "    FILE_TARGETS = (\".json\", \".model\", \".safetensors\", \".py\")\n",
        "    if len(MODEL_FILES) > 0:\n",
        "        LINKS = MODEL_FILES\n",
        "        for i in range(len(LINKS)):\n",
        "            LINKS[i] = LINKS[i].replace(\"/blob/\", \"/resolve/\")\n",
        "    else:\n",
        "        LINKS = []\n",
        "        for link in links:     \n",
        "            if any(target in link for target in FILE_TARGETS) and \"/resolve/\" in link: LINKS.append(link)\n",
        "\n",
        "#Get LINKS for GGUF model (MUST HAVE urls in 'file_list'!)\n",
        "if MODEL_TYPE == \"gguf\":\n",
        "    LINKS = MODEL_FILES\n",
        "    for i in range(len(LINKS)):\n",
        "        LINKS[i] = LINKS[i].replace(\"/blob/\", \"/resolve/\")\n",
        "\n",
        "#Input file for aria2\n",
        "shopping_list = \"down_list.txt\"\n",
        "\n",
        "#Create file for aria2 using LINKS list\n",
        "with open(shopping_list, 'a') as file:\n",
        "    if MODEL_TYPE == \"gguf\":\n",
        "        for url in LINKS:\n",
        "            if \".gguf\" in url: file.write(f\"{url}\\n out={renamed_file}\\n\")\n",
        "    if MODEL_TYPE == \"gptq\":\n",
        "        for url in LINKS:\n",
        "            if \".safetensors\" in url: file.write(f\"{url}\\n out={renamed_file}\\n\")\n",
        "            elif \".model\" in url: file.write(f\"{url}\\n out=tokenizer.model\\n\")\n",
        "            else: file.write(f\"{url}\\n\")\n",
        "\n",
        "#Set models destination for backend\n",
        "models_folder = \"/content/text-generation-webui/models\"\n",
        "\n",
        "#Download all model config files\n",
        "print(f\"Downloading {MODEL_NAME}...\\n\")\n",
        "\n",
        "if MODEL_TYPE == \"gguf\":\n",
        "    !cd $models_folder\n",
        "    !aria2c --console-log-level=error -c -x 16 -s 16 -k 1M --summary-interval=5 --input-file=$shopping_list -d $models_folder\n",
        "    !rm $shopping_list\n",
        "\n",
        "if MODEL_TYPE == \"gptq\":\n",
        "    !cd $models_folder && mkdir $MODEL_NAME\n",
        "    !aria2c --console-log-level=error -c -x 16 -s 16 -k 1M --summary-interval=5 --input-file=$shopping_list -d $models_folder/$MODEL_NAME\n",
        "    !rm $shopping_list"
      ]
    },
    {
      "cell_type": "code",
      "execution_count": null,
      "metadata": {
        "id": "Gh6BfvYTgzt3"
      },
      "outputs": [],
      "source": [
        "#@title LAUNCH! (Run again in case of cloudflare error)\n",
        "\n",
        "%cd /content/text-generation-webui\n",
        "\n",
        "if MODEL_TYPE == \"gptq\":\n",
        "    LOADER = \"EXLLAMAV2_HF\"\n",
        "    !python server.py --nowebui --api --public-api --model $MODEL_NAME --loader $LOADER --max_seq_len 4096 --n_ctx 4096\n",
        "\n",
        "if MODEL_TYPE == \"gguf\":\n",
        "    LOADER = \"LLAMACPP\"\n",
        "    MODEL_NAME = renamed_file\n",
        "    !python server.py --nowebui --api --public-api --model $MODEL_NAME --loader $LOADER --max_seq_len 4096 --n_ctx 4096 --n-gpu-layers 50"
      ]
    }
  ],
  "metadata": {
    "accelerator": "GPU",
    "colab": {
      "gpuType": "T4",
      "private_outputs": true,
      "provenance": []
    },
    "kernelspec": {
      "display_name": "Python 3",
      "name": "python3"
    },
    "language_info": {
      "name": "python",
      "version": "3.10.11"
    }
  },
  "nbformat": 4,
  "nbformat_minor": 0
}
