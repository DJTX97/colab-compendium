{
  "cells": [
    {
      "cell_type": "code",
      "execution_count": null,
      "metadata": {},
      "outputs": [],
      "source": [
        "#@title Prevent disconnections\n",
        "%%html\n",
        "<audio src=\"https://oobabooga.github.io/silence.m4a\" controls>"
      ]
    },
    {
      "cell_type": "code",
      "execution_count": null,
      "metadata": {
        "id": "VjYy0F2gZIPR"
      },
      "outputs": [],
      "source": [
        "#@title Main Code\n",
        "# %cd /content\n",
        "!apt install aria2\n",
        "!pip install pygit2==1.12.2\n",
        "!git clone https://github.com/lllyasviel/Fooocus.git\n"
      ]
    },
    {
      "cell_type": "code",
      "execution_count": null,
      "metadata": {},
      "outputs": [],
      "source": [
        "#@title LAUNCH!\n",
        "%cd /content/Fooocus\n",
        "\n",
        "# Don't forget to set the preset!\n",
        "PRESET = \"default\" #@param {type:\"string\"}\n",
        "\n",
        "!python entry_with_update.py --share --always-high-vram --theme dark --preset $PRESET"
      ]
    }
  ],
  "metadata": {
    "accelerator": "GPU",
    "colab": {
      "gpuType": "T4",
      "provenance": []
    },
    "kernelspec": {
      "display_name": "Python 3",
      "name": "python3"
    },
    "language_info": {
      "name": "python"
    }
  },
  "nbformat": 4,
  "nbformat_minor": 0
}
